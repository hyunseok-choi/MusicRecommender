{
 "cells": [
  {
   "cell_type": "markdown",
   "metadata": {},
   "source": [
    "# Collaborative Filtering\n",
    "### Using sampled data"
   ]
  },
  {
   "cell_type": "code",
   "execution_count": 2,
   "metadata": {
    "collapsed": true
   },
   "outputs": [],
   "source": [
    "import pandas as pd\n",
    "import numpy as np"
   ]
  },
  {
   "cell_type": "code",
   "execution_count": 4,
   "metadata": {
    "collapsed": false
   },
   "outputs": [],
   "source": [
    "X_train = pd.read_csv('data/train_x.csv')\n",
    "Y_train = pd.read_csv('data/train_y.csv', header=None, names=['target'])\n",
    "X_test = pd.read_csv('data/test_x.csv')\n",
    "Y_test = pd.read_csv('data/test_y.csv', header=None, names=['target'])"
   ]
  },
  {
   "cell_type": "code",
   "execution_count": 43,
   "metadata": {
    "collapsed": true
   },
   "outputs": [],
   "source": [
    "% matplotlib inline\n",
    "import matplotlib.pyplot as plt\n",
    "from sklearn.decomposition import PCA\n",
    "from sklearn.preprocessing import StandardScaler \n",
    "from sklearn.model_selection import train_test_split\n",
    "from sklearn.linear_model import LogisticRegression\n",
    "from sklearn.metrics.cluster import adjusted_mutual_info_score\n",
    "from sklearn.cluster import KMeans\n",
    "from sklearn.decomposition import TruncatedSVD\n",
    "from sklearn.pipeline import FeatureUnion\n",
    "from sklearn.random_projection import sparse_random_matrix\n",
    "from sklearn.metrics import accuracy_score, auc, roc_curve, recall_score, f1_score, mean_squared_error, precision_score\n",
    "import scipy as sp"
   ]
  },
  {
   "cell_type": "code",
   "execution_count": 6,
   "metadata": {
    "collapsed": false
   },
   "outputs": [
    {
     "data": {
      "text/plain": [
       "(50000, 17)"
      ]
     },
     "execution_count": 6,
     "metadata": {},
     "output_type": "execute_result"
    }
   ],
   "source": [
    "X = X_train.append(X_test, ignore_index=True)\n",
    "Y = Y_train.append(Y_test, ignore_index=True)\n",
    "X.shape"
   ]
  },
  {
   "cell_type": "code",
   "execution_count": 13,
   "metadata": {
    "collapsed": false
   },
   "outputs": [],
   "source": [
    "data = pd.concat([X[['msno', 'song_id']], Y], axis=1) "
   ]
  },
  {
   "cell_type": "code",
   "execution_count": 6,
   "metadata": {
    "collapsed": false
   },
   "outputs": [
    {
     "name": "stderr",
     "output_type": "stream",
     "text": [
      "C:\\Dev\\Anaconda3\\lib\\site-packages\\ipykernel\\__main__.py:5: SettingWithCopyWarning: \n",
      "A value is trying to be set on a copy of a slice from a DataFrame.\n",
      "Try using .loc[row_indexer,col_indexer] = value instead\n",
      "\n",
      "See the caveats in the documentation: http://pandas.pydata.org/pandas-docs/stable/indexing.html#indexing-view-versus-copy\n",
      "C:\\Dev\\Anaconda3\\lib\\site-packages\\ipykernel\\__main__.py:6: SettingWithCopyWarning: \n",
      "A value is trying to be set on a copy of a slice from a DataFrame.\n",
      "Try using .loc[row_indexer,col_indexer] = value instead\n",
      "\n",
      "See the caveats in the documentation: http://pandas.pydata.org/pandas-docs/stable/indexing.html#indexing-view-versus-copy\n",
      "C:\\Dev\\Anaconda3\\lib\\site-packages\\ipykernel\\__main__.py:7: SettingWithCopyWarning: \n",
      "A value is trying to be set on a copy of a slice from a DataFrame.\n",
      "Try using .loc[row_indexer,col_indexer] = value instead\n",
      "\n",
      "See the caveats in the documentation: http://pandas.pydata.org/pandas-docs/stable/indexing.html#indexing-view-versus-copy\n"
     ]
    }
   ],
   "source": [
    "# Categorical features\n",
    "cat = ['source_system_tab', 'source_screen_name', 'source_type', 'genre_ids', 'artist_name', 'language', 'song_country', 'city', 'registered_via']\n",
    "X_cat_features = X[cat]\n",
    "\n",
    "X_cat_features['language'] = X_cat_features['language'].astype('category')\n",
    "X_cat_features['city'] = X_cat_features['city'].astype('category')\n",
    "X_cat_features['registered_via'] = X_cat_features['registered_via'].astype('category')"
   ]
  },
  {
   "cell_type": "code",
   "execution_count": 7,
   "metadata": {
    "collapsed": false
   },
   "outputs": [],
   "source": [
    "# Populate dummy +variables for categorical features\n",
    "df = pd.get_dummies(X_cat_features, prefix=['sst', 'ssn', 'st', 'gen', 'arts', 'lang', 'natl', 'city', 'rgtvia'])"
   ]
  },
  {
   "cell_type": "code",
   "execution_count": 8,
   "metadata": {
    "collapsed": true
   },
   "outputs": [],
   "source": [
    "# Add numerical features to the categorical features (with dummies)\n",
    "df2 = pd.concat([X[['msno', 'song_id', 'registration_init_time', 'expiration_date', 'duration', 'song_length', 'song_year']], df], axis=1)"
   ]
  },
  {
   "cell_type": "code",
   "execution_count": 9,
   "metadata": {
    "collapsed": true
   },
   "outputs": [],
   "source": [
    "# We use the dataset after the preprocessing\n",
    "X = df2"
   ]
  },
  {
   "cell_type": "code",
   "execution_count": 10,
   "metadata": {
    "collapsed": false
   },
   "outputs": [
    {
     "data": {
      "text/plain": [
       "(50000, 5774)"
      ]
     },
     "execution_count": 10,
     "metadata": {},
     "output_type": "execute_result"
    }
   ],
   "source": [
    "X.shape\n",
    "# The number of columns increased\n",
    "# because of the categorical variables with dummy variables"
   ]
  },
  {
   "cell_type": "code",
   "execution_count": 11,
   "metadata": {
    "collapsed": false
   },
   "outputs": [],
   "source": [
    "# It's been shuffled in the first place,\n",
    "# so I can split like this.\n",
    "X_train = X[:37500]\n",
    "X_test = X[37500:]"
   ]
  },
  {
   "cell_type": "markdown",
   "metadata": {},
   "source": [
    "## PCA"
   ]
  },
  {
   "cell_type": "code",
   "execution_count": 12,
   "metadata": {
    "collapsed": false
   },
   "outputs": [],
   "source": [
    "col_pca = X.columns.values.tolist()\n",
    "# These two columns will be added after PCA\n",
    "col_pca.remove('msno')\n",
    "col_pca.remove('song_id')"
   ]
  },
  {
   "cell_type": "code",
   "execution_count": 13,
   "metadata": {
    "collapsed": false
   },
   "outputs": [
    {
     "data": {
      "text/plain": [
       "0"
      ]
     },
     "execution_count": 13,
     "metadata": {},
     "output_type": "execute_result"
    }
   ],
   "source": [
    "# Check missing value for each column\n",
    "# X_train[col_pca].isnull().any()[X_train[col_pca].isnull().any()==True]\n",
    "X_train[col_pca].isnull().sum().sum()"
   ]
  },
  {
   "cell_type": "code",
   "execution_count": 14,
   "metadata": {
    "collapsed": false
   },
   "outputs": [
    {
     "name": "stdout",
     "output_type": "stream",
     "text": [
      "Shape of the training data before PCA :  (37500, 5772)\n",
      "Shape of the training data after PCA :   (37500, 10)\n",
      "Shape of the training data after PCA :   (37500, 100)\n",
      "Shape of the training data after PCA :   (37500, 1000)\n",
      "[[10, 0.0071058171942342532], [100, 0.044121102814816619], [1000, 0.245675739216213]]\n"
     ]
    }
   ],
   "source": [
    "# Scaling using Standard Sclaer\n",
    "scaler = StandardScaler().fit(X_train[col_pca])\n",
    "X_train_transformed = scaler.transform(X_train[col_pca])\n",
    "X_test_transformed = scaler.transform(X_test[col_pca])\n",
    "\n",
    "# Shape of the training data\n",
    "print('Shape of the training data before PCA : ', X_train_transformed.shape)\n",
    "\n",
    "exp = []\n",
    "for n in [10, 100, 1000]:\n",
    "    # Apply PCA using two principle components\n",
    "    pca = PCA(n_components=n)\n",
    "    Data_pca = pca.fit(X_train_transformed)\n",
    "\n",
    "    X_train_pca = pca.transform(X_train_transformed)\n",
    "    X_test_pca  = pca.transform(X_test_transformed)\n",
    "\n",
    "    print('Shape of the training data after PCA :  ', X_train_pca.shape)\n",
    "    #print('Explined variance,', Data_pca.explained_variance_ratio_)\n",
    "    exp.append([n, Data_pca.explained_variance_ratio_.sum()])\n",
    "    \n",
    "print(exp)"
   ]
  },
  {
   "cell_type": "code",
   "execution_count": 16,
   "metadata": {
    "collapsed": false
   },
   "outputs": [
    {
     "data": {
      "image/png": "[encoded data removed]",
      "text/plain": [
       "<matplotlib.figure.Figure at 0x23a3fb83d68>"
      ]
     },
     "metadata": {},
     "output_type": "display_data"
    }
   ],
   "source": [
    "# 2-d scatter plot for PCA with 2 PCs\n",
    "pca = PCA(n_components=2)\n",
    "Data_pca = pca.fit(X_train_transformed)\n",
    "\n",
    "X_train_pca = pca.transform(X_train_transformed)\n",
    "X_test_pca  = pca.transform(X_test_transformed)\n",
    "\n",
    "pc1 = X_train_pca[:,0]\n",
    "pc2 = X_train_pca[:,1]\n",
    "\n",
    "plt.scatter(pc1, pc2, c=Y_train, s=5) # target 0: blue, target 1: red\n",
    "plt.show()"
   ]
  },
  {
   "cell_type": "markdown",
   "metadata": {
    "collapsed": false
   },
   "source": [
    "*Conclusion:*\n",
    "The information explained after PCA is too small. Only 4% of original data is explained by 100 principle componet vectors. It's assumed that it's because of the data is sparse. PCA is believed not to fit to our problem."
   ]
  },
  {
   "cell_type": "markdown",
   "metadata": {},
   "source": [
    "## CF\n",
    "- http://blog.ethanrosenthal.com/2015/11/02/intro-to-collaborative-filtering/"
   ]
  },
  {
   "cell_type": "code",
   "execution_count": 8,
   "metadata": {
    "collapsed": false
   },
   "outputs": [
    {
     "data": {
      "text/plain": [
       "(50000, 3)"
      ]
     },
     "execution_count": 8,
     "metadata": {},
     "output_type": "execute_result"
    }
   ],
   "source": [
    "data.shape"
   ]
  },
  {
   "cell_type": "code",
   "execution_count": 15,
   "metadata": {
    "collapsed": false
   },
   "outputs": [],
   "source": [
    "data.columns = ['user_id', 'item_id', 'rating']"
   ]
  },
  {
   "cell_type": "code",
   "execution_count": 16,
   "metadata": {
    "collapsed": false
   },
   "outputs": [],
   "source": [
    "data['rating'] = data['rating']+1"
   ]
  },
  {
   "cell_type": "code",
   "execution_count": 17,
   "metadata": {
    "collapsed": false
   },
   "outputs": [
    {
     "data": {
      "text/plain": [
       "2    25202\n",
       "1    24798\n",
       "Name: rating, dtype: int64"
      ]
     },
     "execution_count": 17,
     "metadata": {},
     "output_type": "execute_result"
    }
   ],
   "source": [
    "data['rating'].value_counts()"
   ]
  },
  {
   "cell_type": "code",
   "execution_count": 18,
   "metadata": {
    "collapsed": false
   },
   "outputs": [
    {
     "name": "stdout",
     "output_type": "stream",
     "text": [
      "16537 users\n",
      "21186 items\n"
     ]
    }
   ],
   "source": [
    "n_users = len(data.user_id.unique())\n",
    "n_items = len(data.item_id.unique())\n",
    "users = list(data['user_id'].unique())\n",
    "items = list(data['item_id'].unique())\n",
    "\n",
    "print(str(n_users) + ' users')\n",
    "print(str(n_items) + ' items')"
   ]
  },
  {
   "cell_type": "markdown",
   "metadata": {},
   "source": [
    "## Collaborative Filtering\n",
    "#### Nearest Neighbor Method by Surprise package"
   ]
  },
  {
   "cell_type": "code",
   "execution_count": 22,
   "metadata": {
    "collapsed": true
   },
   "outputs": [],
   "source": [
    "from surprise import KNNBasic, Reader, SVD, KNNWithMeans\n",
    "from surprise import Dataset, accuracy\n",
    "from surprise import PredictionImpossible\n",
    "from surprise import GridSearch"
   ]
  },
  {
   "cell_type": "code",
   "execution_count": 23,
   "metadata": {
    "collapsed": true
   },
   "outputs": [],
   "source": [
    "X_test = X_test.reset_index(drop=True)"
   ]
  },
  {
   "cell_type": "code",
   "execution_count": 24,
   "metadata": {
    "collapsed": false
   },
   "outputs": [],
   "source": [
    "# User only 'msno', 'song_id', 'target\n",
    "# Get a train and validation set. And get a test set\n",
    "train = pd.concat([X_train[['msno', 'song_id']], Y_train['target']], axis=1)\n",
    "test = pd.concat([X_test[['msno', 'song_id']], Y_test['target']], axis=1)\n",
    "train = train.reset_index(drop=True)\n",
    "test = test.reset_index(drop=True)"
   ]
  },
  {
   "cell_type": "code",
   "execution_count": 25,
   "metadata": {
    "collapsed": false,
    "scrolled": true
   },
   "outputs": [
    {
     "name": "stdout",
     "output_type": "stream",
     "text": [
      "(37500, 17) (12500, 17) (37500, 1) (12500, 1)\n"
     ]
    }
   ],
   "source": [
    "print(X_train.shape, X_test.shape, Y_train.shape, Y_test.shape)"
   ]
  },
  {
   "cell_type": "markdown",
   "metadata": {},
   "source": [
    "### Cross Validation"
   ]
  },
  {
   "cell_type": "code",
   "execution_count": 31,
   "metadata": {
    "collapsed": false
   },
   "outputs": [
    {
     "name": "stdout",
     "output_type": "stream",
     "text": [
      "RMSE: 0.4976\n",
      "RMSE: 0.4966\n",
      "RMSE: 0.4981\n",
      "RMSE: 0.4958\n",
      "RMSE: 0.4977\n",
      "Cross validated RMSE:  0.497163683666\n"
     ]
    }
   ],
   "source": [
    "# import the train data for cross validation\n",
    "reader = Reader(rating_scale=(0,1))\n",
    "tr=Dataset.load_from_df(train, reader)\n",
    "tr.split(n_folds=5) # 5-fold cross validation\n",
    "\n",
    "# SVD\n",
    "algo = SVD() # main algorithm\n",
    "# Cross validation\n",
    "rmse=[]\n",
    "for trainset, testset in tr.folds():\n",
    "    algo.train(trainset) # fit data\n",
    "    predictions = algo.test(testset, verbose=False) # predict ratings\n",
    "    rmse.append(accuracy.rmse(predictions))\n",
    "print(\"Cross validated RMSE: \", np.mean(rmse))"
   ]
  },
  {
   "cell_type": "markdown",
   "metadata": {},
   "source": [
    "### Test on test dataset\n",
    "#### Using SVD (Matrix Factorization)"
   ]
  },
  {
   "cell_type": "code",
   "execution_count": 127,
   "metadata": {
    "collapsed": false
   },
   "outputs": [
    {
     "name": "stdout",
     "output_type": "stream",
     "text": [
      "Computing the msd similarity matrix...\n",
      "Done computing similarity matrix.\n",
      "Test set shape: (12500, 3)\n"
     ]
    }
   ],
   "source": [
    "# Re-run the model with the whole training set\n",
    "reader = Reader(rating_scale=(0,1))\n",
    "tr=Dataset.load_from_df(train, reader)\n",
    "tr=tr.build_full_trainset() # train from the full training set\n",
    "\n",
    "algo = KNNBasic()\n",
    "algo.train(tr)\n",
    "\n",
    "print(\"Test set shape:\", test.shape)\n",
    "# Load test set\n",
    "for i in test.index:\n",
    "    test.loc[i, 'est'] = algo.predict(test['msno'][i], test['song_id'][i], r_ui=test['target'][i])[3] # estimate"
   ]
  },
  {
   "cell_type": "code",
   "execution_count": 32,
   "metadata": {
    "collapsed": false
   },
   "outputs": [
    {
     "name": "stdout",
     "output_type": "stream",
     "text": [
      "Test set shape: (12500, 4)\n"
     ]
    }
   ],
   "source": [
    "# Re-run the model with the whole training set\n",
    "reader = Reader(rating_scale=(0,1))\n",
    "tr=Dataset.load_from_df(train, reader)\n",
    "tr=tr.build_full_trainset() # train from the full training set\n",
    "\n",
    "algo = SVD()\n",
    "algo.train(tr)\n",
    "\n",
    "print(\"Test set shape:\", test.shape)\n",
    "# Load test set\n",
    "for i in test.index:\n",
    "    test.loc[i, 'est_svd'] = algo.predict(test['msno'][i], test['song_id'][i], r_ui=test['target'][i])[3] # estimate"
   ]
  },
  {
   "cell_type": "code",
   "execution_count": 34,
   "metadata": {
    "collapsed": false
   },
   "outputs": [],
   "source": [
    "test.loc[test['est_svd']>=0.5, 'est_svd_target']=1\n",
    "test.loc[test['est_svd']<0.5, 'est_svd_target']=0"
   ]
  },
  {
   "cell_type": "code",
   "execution_count": 35,
   "metadata": {
    "collapsed": true
   },
   "outputs": [],
   "source": [
    "test['est_svd_target'] = test['est_svd_target'].astype(np.int8)\n",
    "test['target'] = test['target'].astype(np.int8)"
   ]
  },
  {
   "cell_type": "code",
   "execution_count": 39,
   "metadata": {
    "collapsed": true
   },
   "outputs": [],
   "source": [
    "PredictedOutput = test['est_svd_target']\n",
    "Y_test = test['target']"
   ]
  },
  {
   "cell_type": "code",
   "execution_count": null,
   "metadata": {
    "collapsed": true
   },
   "outputs": [],
   "source": [
    "precision_sco"
   ]
  },
  {
   "cell_type": "code",
   "execution_count": 44,
   "metadata": {
    "collapsed": false
   },
   "outputs": [
    {
     "name": "stdout",
     "output_type": "stream",
     "text": [
      "Test Accuracy:  0.55912\n",
      "Test Precision:  0.552178043154\n",
      "Test Recall:  0.647929936306\n",
      "Test f1-score:  0.596234156348\n",
      "Test AUC:  0.558691656256\n",
      "Test RMSE:  0.663987951698\n"
     ]
    }
   ],
   "source": [
    "test_accuracy = accuracy_score(Y_test, PredictedOutput)\n",
    "test_recall = recall_score(Y_test, PredictedOutput, pos_label=1)\n",
    "test_precision = precision_score(Y_test, PredictedOutput)\n",
    "test_f1 = f1_score(Y_test, PredictedOutput)\n",
    "fpr, tpr, thresholds = roc_curve(Y_test, PredictedOutput, pos_label=1)\n",
    "test_rmse = np.sqrt(mean_squared_error(Y_test, PredictedOutput))\n",
    "test_auc = auc(fpr, tpr)\n",
    "\n",
    "print(\"Test Accuracy: \", test_accuracy)\n",
    "print(\"Test Precision: \", test_precision)\n",
    "print(\"Test Recall: \", test_recall)\n",
    "print(\"Test f1-score: \", test_f1)\n",
    "print(\"Test AUC: \", test_auc)\n",
    "print(\"Test RMSE: \", test_rmse)"
   ]
  }
 ],
 "metadata": {
  "anaconda-cloud": {},
  "kernelspec": {
   "display_name": "Python [Root]",
   "language": "python",
   "name": "Python [Root]"
  },
  "language_info": {
   "codemirror_mode": {
    "name": "ipython",
    "version": 3
   },
   "file_extension": ".py",
   "mimetype": "text/x-python",
   "name": "python",
   "nbconvert_exporter": "python",
   "pygments_lexer": "ipython3",
   "version": "3.5.2"
  }
 },
 "nbformat": 4,
 "nbformat_minor": 0
}
